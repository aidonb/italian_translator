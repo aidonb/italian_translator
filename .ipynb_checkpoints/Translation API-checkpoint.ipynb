{
 "cells": [
  {
   "cell_type": "code",
   "execution_count": 1,
   "metadata": {
    "ExecuteTime": {
     "end_time": "2020-08-26T14:41:55.996270Z",
     "start_time": "2020-08-26T14:41:55.575583Z"
    }
   },
   "outputs": [],
   "source": [
    "from googletrans import Translator\n",
    "import pandas as pd\n",
    "\n",
    "from IPython.core.interactiveshell import InteractiveShell\n",
    "pd.set_option(\"display.max_columns\", 100)\n",
    "InteractiveShell.ast_node_interactivity = \"all\""
   ]
  },
  {
   "cell_type": "markdown",
   "metadata": {},
   "source": [
    "# Explore package"
   ]
  },
  {
   "cell_type": "code",
   "execution_count": 2,
   "metadata": {
    "ExecuteTime": {
     "end_time": "2020-08-26T14:41:56.127990Z",
     "start_time": "2020-08-26T14:41:56.122997Z"
    }
   },
   "outputs": [],
   "source": [
    "translator = Translator()"
   ]
  },
  {
   "cell_type": "code",
   "execution_count": 3,
   "metadata": {
    "ExecuteTime": {
     "end_time": "2020-08-26T14:41:57.314262Z",
     "start_time": "2020-08-26T14:41:56.666441Z"
    }
   },
   "outputs": [
    {
     "data": {
      "text/plain": [
       "'it'"
      ]
     },
     "execution_count": 3,
     "metadata": {},
     "output_type": "execute_result"
    },
    {
     "data": {
      "text/plain": [
       "{'translation': [['Ciao, come stai?', 'Hello, how are you?', None, None, 1]],\n",
       " 'all-translations': None,\n",
       " 'original-language': 'en',\n",
       " 'possible-translations': [['Hello, how are you?',\n",
       "   None,\n",
       "   [['Ciao, come stai?', 1000, True, False]],\n",
       "   [[0, 19]],\n",
       "   'Hello, how are you?',\n",
       "   0,\n",
       "   0]],\n",
       " 'confidence': 1.0,\n",
       " 'possible-mistakes': None,\n",
       " 'language': [['en'], None, [1.0], ['en']],\n",
       " 'synonyms': None,\n",
       " 'definitions': None,\n",
       " 'examples': None,\n",
       " 'see-also': None}"
      ]
     },
     "execution_count": 3,
     "metadata": {},
     "output_type": "execute_result"
    },
    {
     "data": {
      "text/plain": [
       "'Hello, how are you?'"
      ]
     },
     "execution_count": 3,
     "metadata": {},
     "output_type": "execute_result"
    },
    {
     "data": {
      "text/plain": [
       "'Hello, how are you?'"
      ]
     },
     "execution_count": 3,
     "metadata": {},
     "output_type": "execute_result"
    },
    {
     "data": {
      "text/plain": [
       "'en'"
      ]
     },
     "execution_count": 3,
     "metadata": {},
     "output_type": "execute_result"
    },
    {
     "data": {
      "text/plain": [
       "'Ciao, come stai?'"
      ]
     },
     "execution_count": 3,
     "metadata": {},
     "output_type": "execute_result"
    }
   ],
   "source": [
    "# Assess the attributes of translation\n",
    "translator.translate('Hello, how are you?', dest='it').dest\n",
    "translator.translate('Hello, how are you?', dest='it').extra_data\n",
    "translator.translate('Hello, how are you?', dest='it').origin\n",
    "translator.translate('Hello, how are you?', dest='it').pronunciation\n",
    "translator.translate('Hello, how are you?', dest='it').src\n",
    "translator.translate('Hello, how are you?', dest='it').text"
   ]
  },
  {
   "cell_type": "code",
   "execution_count": 32,
   "metadata": {
    "ExecuteTime": {
     "end_time": "2020-08-26T14:29:18.964655Z",
     "start_time": "2020-08-26T14:29:18.961366Z"
    }
   },
   "outputs": [],
   "source": [
    "# Confidence levels in translation"
   ]
  },
  {
   "cell_type": "code",
   "execution_count": 4,
   "metadata": {
    "ExecuteTime": {
     "end_time": "2020-08-26T14:41:58.062353Z",
     "start_time": "2020-08-26T14:41:57.971652Z"
    }
   },
   "outputs": [
    {
     "data": {
      "text/plain": [
       "1.0"
      ]
     },
     "execution_count": 4,
     "metadata": {},
     "output_type": "execute_result"
    }
   ],
   "source": [
    "extra_data = translator.translate('Hello, how are you?', dest='it').extra_data\n",
    "extra_data['confidence']"
   ]
  },
  {
   "cell_type": "markdown",
   "metadata": {},
   "source": [
    "# Function to provide enough oversight from translation"
   ]
  },
  {
   "cell_type": "code",
   "execution_count": 5,
   "metadata": {
    "ExecuteTime": {
     "end_time": "2020-08-26T14:41:58.993192Z",
     "start_time": "2020-08-26T14:41:58.988769Z"
    }
   },
   "outputs": [],
   "source": [
    "def translate_information(text='', src='', to=''):\n",
    "    \n",
    "    # Define a translator\n",
    "    translator = Translator()\n",
    "    \n",
    "    translation = translator.translate(text=text,\n",
    "                          src=src,\n",
    "                          dest=to)\n",
    "    \n",
    "    return print(f\"Translated from {src} to {to} with {translation.extra_data['confidence']} confidence: \\n '{translation.text}'\")\n",
    "    "
   ]
  },
  {
   "cell_type": "code",
   "execution_count": 6,
   "metadata": {
    "ExecuteTime": {
     "end_time": "2020-08-26T14:42:01.288172Z",
     "start_time": "2020-08-26T14:42:00.969695Z"
    }
   },
   "outputs": [
    {
     "name": "stdout",
     "output_type": "stream",
     "text": [
      "Translated from en to it with 0.98556936 confidence: \n",
      " 'Ciao, per favore tradurre'\n"
     ]
    }
   ],
   "source": [
    "translate_information(text='Hello, please translate', src='en', to='it')"
   ]
  },
  {
   "cell_type": "code",
   "execution_count": 7,
   "metadata": {
    "ExecuteTime": {
     "end_time": "2020-08-26T14:42:57.170272Z",
     "start_time": "2020-08-26T14:42:56.949908Z"
    }
   },
   "outputs": [
    {
     "name": "stdout",
     "output_type": "stream",
     "text": [
      "Translated from en to ko with 0.98556936 confidence: \n",
      " '안녕하세요, 번역하십시오'\n"
     ]
    }
   ],
   "source": [
    "translate_information(text='Hello, please translate', src='en', to='ko')"
   ]
  },
  {
   "cell_type": "markdown",
   "metadata": {},
   "source": [
    "# Translate Alice in Wonderland to Italian"
   ]
  },
  {
   "cell_type": "code",
   "execution_count": 52,
   "metadata": {
    "ExecuteTime": {
     "end_time": "2020-08-26T14:59:30.893428Z",
     "start_time": "2020-08-26T14:59:30.888510Z"
    }
   },
   "outputs": [],
   "source": [
    "my_file_handle=open(\"alice.txt\")\n",
    "alice_file = my_file_handle.read()"
   ]
  },
  {
   "cell_type": "code",
   "execution_count": 53,
   "metadata": {
    "ExecuteTime": {
     "end_time": "2020-08-26T14:59:31.448204Z",
     "start_time": "2020-08-26T14:59:31.444587Z"
    },
    "scrolled": true
   },
   "outputs": [],
   "source": [
    "alice_file = alice_file.replace('\\n',' ')"
   ]
  },
  {
   "cell_type": "code",
   "execution_count": 54,
   "metadata": {
    "ExecuteTime": {
     "end_time": "2020-08-26T14:59:32.057162Z",
     "start_time": "2020-08-26T14:59:32.042579Z"
    }
   },
   "outputs": [],
   "source": [
    "import re\n",
    "alice_file = re.sub('[^A-Za-z0-9]+', ' ', alice_file)"
   ]
  },
  {
   "cell_type": "code",
   "execution_count": 55,
   "metadata": {
    "ExecuteTime": {
     "end_time": "2020-08-26T14:59:32.609510Z",
     "start_time": "2020-08-26T14:59:32.595886Z"
    }
   },
   "outputs": [
    {
     "data": {
      "text/plain": [
       "154562"
      ]
     },
     "execution_count": 55,
     "metadata": {},
     "output_type": "execute_result"
    }
   ],
   "source": [
    "len(alice_file)"
   ]
  },
  {
   "cell_type": "code",
   "execution_count": 56,
   "metadata": {
    "ExecuteTime": {
     "end_time": "2020-08-26T14:59:40.109750Z",
     "start_time": "2020-08-26T14:59:40.103700Z"
    }
   },
   "outputs": [
    {
     "data": {
      "text/plain": [
       "10.304133333333333"
      ]
     },
     "execution_count": 56,
     "metadata": {},
     "output_type": "execute_result"
    }
   ],
   "source": [
    "# Google API limit is 15000 words, so let's split it into 11 chunks\n",
    "154562/15000"
   ]
  },
  {
   "cell_type": "code",
   "execution_count": 61,
   "metadata": {
    "ExecuteTime": {
     "end_time": "2020-08-26T15:00:10.360314Z",
     "start_time": "2020-08-26T15:00:10.356921Z"
    }
   },
   "outputs": [],
   "source": [
    "first_14999 = alice_file[:14999]"
   ]
  },
  {
   "cell_type": "code",
   "execution_count": 62,
   "metadata": {
    "ExecuteTime": {
     "end_time": "2020-08-26T15:00:13.207095Z",
     "start_time": "2020-08-26T15:00:13.201588Z"
    }
   },
   "outputs": [
    {
     "data": {
      "text/plain": [
       "'The Project Gutenberg EBook of Alice s Adventures in Wonderland by Lewis Carroll This eBook is for the use of anyone anywhere at no cost and with almost no restrictions whatsoever You may copy it give it away or re use it under the terms of the Project Gutenberg License included with this eBook or online at www gutenberg org Title Alice s Adventures in Wonderland Author Lewis Carroll Release Date June 25 2008 EBook 11 Last Updated February 22 2020 Language English Character set encoding UTF 8 START OF THIS PROJECT GUTENBERG EBOOK ALICE S ADVENTURES IN WONDERLAND Produced by Arthur DiBianca and David Widger Illustration Alice s Adventures in Wonderland by Lewis Carroll THE MILLENNIUM FULCRUM EDITION 3 0 Contents CHAPTER I Down the Rabbit Hole CHAPTER II The Pool of Tears CHAPTER III A Caucus Race and a Long Tale CHAPTER IV The Rabbit Sends in a Little Bill CHAPTER V Advice from a Caterpillar CHAPTER VI Pig and Pepper CHAPTER VII A Mad Tea Party CHAPTER VIII The Queen s Croquet Ground CHAPTER IX The Mock Turtle s Story CHAPTER X The Lobster Quadrille CHAPTER XI Who Stole the Tarts CHAPTER XII Alice s Evidence CHAPTER I Down the Rabbit Hole Alice was beginning to get very tired of sitting by her sister on the bank and of having nothing to do once or twice she had peeped into the book her sister was reading but it had no pictures or conversations in it and what is the use of a book thought Alice without pictures or conversations So she was considering in her own mind as well as she could for the hot day made her feel very sleepy and stupid whether the pleasure of making a daisy chain would be worth the trouble of getting up and picking the daisies when suddenly a White Rabbit with pink eyes ran close by her There was nothing so very remarkable in that nor did Alice think it so very much out of the way to hear the Rabbit say to itself Oh dear Oh dear I shall be late when she thought it over afterwards it occurred to her that she ought to have wondered at this but at the time it all seemed quite natural but when the Rabbit actually took a watch out of its waistcoat pocket and looked at it and then hurried on Alice started to her feet for it flashed across her mind that she had never before seen a rabbit with either a waistcoat pocket or a watch to take out of it and burning with curiosity she ran across the field after it and fortunately was just in time to see it pop down a large rabbit hole under the hedge In another moment down went Alice after it never once considering how in the world she was to get out again The rabbit hole went straight on like a tunnel for some way and then dipped suddenly down so suddenly that Alice had not a moment to think about stopping herself before she found herself falling down a very deep well Either the well was very deep or she fell very slowly for she had plenty of time as she went down to look about her and to wonder what was going to happen next First she tried to look down and make out what she was coming to but it was too dark to see anything then she looked at the sides of the well and noticed that they were filled with cupboards and book shelves here and there she saw maps and pictures hung upon pegs She took down a jar from one of the shelves as she passed it was labelled ORANGE MARMALADE but to her great disappointment it was empty she did not like to drop the jar for fear of killing somebody underneath so managed to put it into one of the cupboards as she fell past it Well thought Alice to herself after such a fall as this I shall think nothing of tumbling down stairs How brave they ll all think me at home Why I wouldn t say anything about it even if I fell off the top of the house Which was very likely true Down down down Would the fall never come to an end I wonder how many miles I ve fallen by this time she said aloud I must be getting somewhere near the centre of the earth Let me see that would be four thousand miles down I think for you see Alice had learnt several things of this sort in her lessons in the schoolroom and though this was not a very good opportunity for showing off her knowledge as there was no one to listen to her still it was good practice to say it over yes that s about the right distance but then I wonder what Latitude or Longitude I ve got to Alice had no idea what Latitude was or Longitude either but thought they were nice grand words to say Presently she began again I wonder if I shall fall right through the earth How funny it ll seem to come out among the people that walk with their heads downward The Antipathies I think she was rather glad there was no one listening this time as it didn t sound at all the right word but I shall have to ask them what the name of the country is you know Please Ma am is this New Zealand or Australia and she tried to curtsey as she spoke fancy curtseying as you re falling through the air Do you think you could manage it And what an ignorant little girl she ll think me for asking No it ll never do to ask perhaps I shall see it written up somewhere Down down down There was nothing else to do so Alice soon began talking again Dinah ll miss me very much to night I should think Dinah was the cat I hope they ll remember her saucer of milk at tea time Dinah my dear I wish you were down here with me There are no mice in the air I m afraid but you might catch a bat and that s very like a mouse you know But do cats eat bats I wonder And here Alice began to get rather sleepy and went on saying to herself in a dreamy sort of way Do cats eat bats Do cats eat bats and sometimes Do bats eat cats for you see as she couldn t answer either question it didn t much matter which way she put it She felt that she was dozing off and had just begun to dream that she was walking hand in hand with Dinah and saying to her very earnestly Now Dinah tell me the truth did you ever eat a bat when suddenly thump thump down she came upon a heap of sticks and dry leaves and the fall was over Alice was not a bit hurt and she jumped up on to her feet in a moment she looked up but it was all dark overhead before her was another long passage and the White Rabbit was still in sight hurrying down it There was not a moment to be lost away went Alice like the wind and was just in time to hear it say as it turned a corner Oh my ears and whiskers how late it s getting She was close behind it when she turned the corner but the Rabbit was no longer to be seen she found herself in a long low hall which was lit up by a row of lamps hanging from the roof There were doors all round the hall but they were all locked and when Alice had been all the way down one side and up the other trying every door she walked sadly down the middle wondering how she was ever to get out again Suddenly she came upon a little three legged table all made of solid glass there was nothing on it except a tiny golden key and Alice s first thought was that it might belong to one of the doors of the hall but alas either the locks were too large or the key was too small but at any rate it would not open any of them However on the second time round she came upon a low curtain she had not noticed before and behind it was a little door about fifteen inches high she tried the little golden key in the lock and to her great delight it fitted Alice opened the door and found that it led into a small passage not much larger than a rat hole she knelt down and looked along the passage into the loveliest garden you ever saw How she longed to get out of that dark hall and wander about among those beds of bright flowers and those cool fountains but she could not even get her head through the doorway and even if my head would go through thought poor Alice it would be of very little use without my shoulders Oh how I wish I could shut up like a telescope I think I could if I only knew how to begin For you see so many out of the way things had happened lately that Alice had begun to think that very few things indeed were really impossible There seemed to be no use in waiting by the little door so she went back to the table half hoping she might find another key on it or at any rate a book of rules for shutting people up like telescopes this time she found a little bottle on it which certainly was not here before said Alice and round the neck of the bottle was a paper label with the words DRINK ME beautifully printed on it in large letters It was all very well to say Drink me but the wise little Alice was not going to do that in a hurry No I ll look first she said and see whether it s marked poison or not for she had read several nice little histories about children who had got burnt and eaten up by wild beasts and other unpleasant things all because they would not remember the simple rules their friends had taught them such as that a red hot poker will burn you if you hold it too long and that if you cut your finger very deeply with a knife it usually bleeds and she had never forgotten that if you drink much from a bottle marked poison it is almost certain to disagree with you sooner or later However this bottle was not marked poison so Alice ventured to taste it and finding it very nice it had in fact a sort of mixed flavour of cherry tart custard pine apple roast turkey toffee and hot buttered toast she very soon finished it off What a curious feeling said Alice I must be shutting up like a telescope And so it was indeed she was now only ten inches high and her face brightened up at the thought that she was now the right size for going through the little door into that lovely garden First however she waited for a few minutes to see if she was going to shrink any further she felt a little nervous about this for it might end you know said Alice to herself in my going out altogether like a candle I wonder what I should be like then And she tried to fancy what the flame of a candle is like after the candle is blown out for she could not remember ever having seen such a thing After a while finding that nothing more happened she decided on going into the garden at once but alas for poor Alice when she got to the door she found she had forgotten the little golden key and when she went back to the table for it she found she could not possibly reach it she could see it quite plainly through the glass and she tried her best to climb up one of the legs of the table but it was too slippery and when she had tired herself out with trying the poor little thing sat down and cried Come there s no use in crying like that said Alice to herself rather sharply I advise you to leave off this minute She generally gave herself very good advice though she very seldom followed it and sometimes she scolded herself so severely as to bring tears into her eyes and once she remembered trying to box her own ears for having cheated herself in a game of croquet she was playing against herself for this curious child was very fond of pretending to be two people But it s no use now thought poor Alice to pretend to be two people Why there s hardly enough of me left to make one respectable person Soon her eye fell on a little glass box that was lying under the table she opened it and found in it a very small cake on which the words EAT ME were beautifully marked in currants Well I ll eat it said Alice and if it makes me grow larger I can reach the key and if it makes me grow smaller I can creep under the door so either way I ll get into the garden and I don t care which happens She ate a little bit and said anxiously to herself Which way Which way holding her hand on the top of her head to feel which way it was growing and she was quite surprised to find that she remained the same size to be sure this generally happens when one eats cake but Alice had got so much into the way of expecting nothing but out of the way things to happen that it seemed quite dull and stupid for life to go on in the common way So she set to work and very soon finished off the cake CHAPTER II The Pool of Tears Curiouser and curiouser cried Alice she was so much surprised that for the moment she quite forgot how to speak good English now I m opening out like the largest telescope that ever was Good bye feet for when she looked down at her feet they seemed to be almost out of sight they were getting so far off Oh my poor little feet I wonder who will put on your shoes and stockings for you now dears I m sure I shan t be able I shall be a great deal too far off to trouble myself about you you must manage the best way you can but I must be kind to them thought Alice or perhaps they won t walk the way I want to go Let me see I ll give them a new pair of boots every Christmas And she went on planning to herself how she would manage it They must go by the carrier she thought and how funny it ll seem sending presents to one s own feet And how odd the directions will look Alice s Right Foot Esq Hearthrug near the Fender with Alice s love Oh dear what nonsense I m talking Just then her head struck against the roof of the hall in fact she was now more than nine feet high and she at once took up the little golden key and hurried off to the garden door Poor Alice It was as much as she could do lying down on one side to look through into the garden with one eye but to get through was more hopeless than ever she sat down and began to cry again You ought to be ashamed of yourself said Alice a great girl like you she might well say this to go on crying in this way Stop this moment I tell you But she went on all the same shedding gallons of tears until there was a large pool all round her about four inches deep and reaching half down the hall After a time she heard a little pattering of feet in the distance and she hastily dried her eyes to see what was coming It was the White Rabbit returning splendidly dressed with a pair of white kid gloves in one hand and a large fan in the other he came trotting along in a great hurry muttering to himself as he came Oh the Duchess the Duchess Oh won t she be savage if I ve kept her waiting Alice felt so desperate that she was ready to ask help of any one so when the Rabbit came near her she began in a low timid voice If you please sir The Rabbit started violently dropped the white kid gloves and the fan and skurried away into the darkness as hard as he could go Alice took up the fan and gloves and as the hall was very hot she kept fanning herself all the time she went on talking Dear dear How queer everything is to day And yesterday things went on just as usual I wonder if I ve been changed in the night Let me think was I the same when I got up this morning I almost think I can remember feeling a little different But if I m not the same the next question is Who in the world am I Ah that s the great puzzle And she began thinking over all the children she knew that were of the same age as herself to see if she could have been changed for any of them I m sure I m not Ada she said for her hair goes in such long ringlets and mine doesn t go in ringlets at'"
      ]
     },
     "execution_count": 62,
     "metadata": {},
     "output_type": "execute_result"
    }
   ],
   "source": [
    "first_14999"
   ]
  },
  {
   "cell_type": "code",
   "execution_count": 63,
   "metadata": {
    "ExecuteTime": {
     "end_time": "2020-08-26T15:00:19.451159Z",
     "start_time": "2020-08-26T15:00:18.984025Z"
    }
   },
   "outputs": [
    {
     "name": "stdout",
     "output_type": "stream",
     "text": [
      "Translated from en to it with 1.0 confidence: \n",
      " 'Il Progetto Gutenberg EBook di Alice s Adventures in Wonderland di Lewis Carroll Questo eBook è per l'uso di chiunque e ovunque, senza alcun costo e con quasi nessuna restrizione di sorta Si può copiarlo dare via o l'uso ri secondo i termini del Progetto Gutenberg License incluso con questo eBook o on-line sul sito www Gutenberg org Titolo Alice s Adventures in Wonderland Autore Lewis Carroll Data di rilascio 25 giugno 2008 eBook 11 Ultimo aggiornamento 22 febbraio 2020 lingua Inglese Imposta codifica dei caratteri UTF 8 INIZIO dI qUESTO PROGETTO GUTENBERG eBOOK ALICE S ADVENTURES iN WONDERLAND Prodotto da Arthur DiBianca e David Widger Illustrazione Alice s Adventures in Wonderland di Lewis Carroll MILLENNIO FULCRO EDIZIONE 3 0 Sommario CAPITOLO I Down the Rabbit Hole CAPITOLO II la piscina di lacrime CAPITOLO III a Caucus Race e una lunga storia CAPO IV il Coniglio invia in un V Consigli Little Bill CAPITOLO da un Caterpillar CAPITOLO VI maiale e pepe CAPO VII a Mad Tea Party CAPO VIII The queen s Croquet terra CH APTER IX La Finta Tartaruga s Story CAPITOLO X The Lobster Quadrille CAPITOLO XI che ha rubato il Tarts CAPITOLO XII Alice s Evidence CAPITOLO I Down the Rabbit Hole Alice cominciava a diventare molto stanco di stare seduto dalla sorella sulla banca e di non avere nulla a che fare una o due volte aveva fatto capolino nel libro la sorella stava leggendo, ma non aveva immagini o conversazioni in esso e che cosa è l'uso di un libro pensato Alice senza immagini o conversazioni Quindi lei stava considerando nella sua mente così come poteva per il giorno caldo la faceva sentire molto assonnato e stupido se il piacere di fare una catena di margherita varrebbe la pena di alzarsi e raccogliendo le margherite quand'ecco un coniglio bianco con gli occhi rosa correva accanto a lei non c'era niente in modo molto notevole in quanto né Alice pensava che così tanto fuori strada per ascoltare la parola di coniglio a se stesso Oh Dio mio sarò in ritardo quando lei pensò su poi le venne in mente che lei avrebbe dovuto chiesti a questo, ma al tempo sembrava tutto abbastanza naturale, ma quando il Coniglio ha effettivamente avuto un orologio fuori dalla sua tasca del panciotto e lo guardò e poi si affrettò su Alice ha iniziato ad alzarsi in piedi per esso balenò la sua mente che non aveva mai visto prima un coniglio o con un gilet tasca o un orologio per prendere fuori di esso e la masterizzazione con curiosità corse attraverso il campo dopo che è e per fortuna era appena in tempo per vederlo pop giù un grande buco di coniglio sotto la siepe in un altro momento, verso il basso è andato Alice dopo che mai una volta considerare come nel mondo era di uscire di nuovo la tana del coniglio è andato dritto come un tunnel per qualche modo e poi immersi improvvisamente verso il basso così all'improvviso che Alice non ha avuto un momento per pensare a fermare se stessa prima che si ritrovò a cadere un pozzo molto profondo entrambi i casi il pozzo era molto profondo o lei è sceso molto lentamente perché aveva un sacco di tempo mentre andava verso il basso, di guardarsi intorno e chiedersi cosa sarebbe successo successiva Prima ha cercato di guardare in basso e fare fuori quello che stava venendo a ma era troppo buio per vedere qualcosa poi guardò le pareti del pozzo e si accorse che erano pieni di armadi e scaffali di libri qua e là vide le mappe e le immagini appese su pioli Prese giù un barattolo da uno degli scaffali come lei passati è stato etichettato MARMELLATA dI ARANCE, ma per la sua grande delusione era vuota non le piaceva far cadere il vaso per paura di uccidere qualcuno sotto in modo riuscito a metterla in uno degli armadi mentre cadeva passato bene pensò Alice a se stessa dopo tale una caduta come questa mi deve pensare nulla di ruzzolare giù per le scale quanto coraggiosi hanno ll tutti mi credono a casa Perché wouldn t dire nulla al riguardo, anche se sono caduto fuori dalla parte superiore della casa che era molto probabilmente vero giù giù giù Può la caduta mai giunto alla fine mi chiedo quante miglia io ho caduto da questo momento, ha detto ad alta voce io devo essere sempre da qualche parte vicino al centro della terra Fammi vedere che sarebbe quattromila miglia giù Penso che per voi vedere Alice aveva imparato molte cose di questo in modo rt nelle sue lezioni in aula e anche se questo non era una buona occasione per mettersi in mostra la sua conoscenza come c'era nessuno ad ascoltare il suo ancora era buona pratica a dire sopra sì che s circa la giusta distanza a meno di chiedersi poi ho ciò latitudine o longitudine io ho avuto modo di Alice non aveva idea di che cosa Latitudine fosse o Longitudine sia, ma pensava che fossero belle grandi parole da dire Attualmente ha iniziato di nuovo mi chiedo se cadrò a destra attraverso la terra come buffo ll sembrano venire fuori fra le persone che camminano con la testa verso il basso antipatie penso che lei era piuttosto contento non c'era nessuno ad ascoltare questa volta come si didn suono t affatto la parola giusta, ma dovrò chiedere loro che il nome del paese è di sapere prega ma am è questa la Nuova Zelanda o l'Australia e cercò di inchino mentre parlava fantasia fare la riverenza, come si ri cadere attraverso l'aria pensi che si potrebbe gestire e che bambina ignorante lei ll me pensare per chiedere No, non è mai fare per chiedere perhap s vedrò scritto da qualche parte giù giù giù Non c'era niente altro da fare in modo da Alice presto ha cominciato a parlare di nuovo Dinah mi ll manca molto alla sera dovrei che Dinah era il gatto Spero che ll ricordano il suo piattino di latte all'ora del tè Dinah mia cara Vorrei che tu fossi qui con me ci sono i topi in aria I m paura, ma si potrebbe prendere una mazza e che s molto simile a un mouse si sa ma fate i gatti mangiano i pipistrelli mi meraviglia e qui Alice ha cominciato a ottenere piuttosto assonnato e andò a dire a se stessa in una sognante sorta di modo i gatti mangiano i pipistrelli I gatti mangiano i pipistrelli e a volte fanno i pipistrelli mangiano i gatti per che si vede come lei potevo rispondere a due domande che didn t molto più importa in che modo lo ha messo sentiva che lei stava sonnecchiando off e aveva appena cominciato a sognare che stava camminando mano nella mano con Dinah e dicendo a lei molto seriamente Ora Dinah dimmi la verità hai mai mangiato un pipistrello quando improvvisamente bum bum giù è venuta su un mucchio di bastoni e foglie secche e la caduta era finita Alice non era un male po 'e lei j umped fino a suoi piedi in un momento alzò lo sguardo, ma era tutto in testa scura prima di lei è stato un altro lungo passaggio e il Bianconiglio era ancora in vista fretta verso il basso, non c'era un minuto da perdere via è andato Alice come il vento e era giusto in tempo per sentire dire come si è scoperto un angolo Oh le mie orecchie e baffi quanto tardi si sta diventando lei era vicino dietro di esso quando ha girato l'angolo, ma il coniglio non era più per essere visto si trovò in un lungo e basso corridoio che è stato illuminato da una fila di lampade a sospensione dal tetto c'erano le porte in tutto il corridoio, ma sono stati tutti bloccati e quando Alice era stata fino in fondo una parte e l'altra cercando ogni porta camminava tristemente giù la metà chiedono come è stata mai uscire di nuovo un tratto si imbatté in un po 'di tre tavolo gambe tutte in vetro massiccio non c'era nulla su di esso, tranne una piccola chiave d'oro e il primo pensiero Alice s era che potrebbe appartenere a una delle porte della sala ma purtroppo sia le serrature erano troppo grande o t egli chiave era troppo piccola, ma in ogni caso non sarebbe aprire qualsiasi di essi Comunque la seconda volta turno è venuta su una bassa tenda che non aveva notato prima e dietro di essa era una piccola porta su quindici pollici ad alta ha provato la piccola chiave d'oro nella serratura e per il suo grande piacere è montato Alice aprì la porta e ha trovato che ha portato in un piccolo passaggio non molto più grande di un topaia si inginocchiò e guardò lungo il passaggio verso il giardino più bello mai visto come lei desiderava ottenere da quel corridoio buio e vagare tra quei letti di fiori vivaci e fresche acque delle fontane, ma lei non riusciva nemmeno a ottenere la sua testa attraverso la porta e anche se la mia testa sarebbe passare attraverso pensato la povera Alice che sarebbe stato di molto poco uso senza spalle Oh, come vorrei poter stare zitto come un telescopio penso che potrei se solo sapessi come iniziare per voi vedere così tanti di come le cose erano accadute ultimamente che Alice aveva cominciato a pensare che poche cose in effetti erano davvero impossibili ci vedere med di essere inutile attesa dalla piccola porta così tornò alla metà tavolo sperando che potrebbe trovare un altro tasto su di esso o in ogni caso un libro di regole per chiudere le persone in su come telescopi questa volta ha trovato una bottiglietta su di esso che certamente non è stato qui prima, ha detto Alice e intorno al collo della bottiglia era un'etichetta di carta con la scritta Drink me splendidamente stampato su di essa a grandi lettere e 'stato tutto molto bene a dire che mi bere, ma il saggio piccola Alice non aveva intenzione di fare che in fretta No I ll guardare prima lei ha detto e vedere se s segnato veleno o non per aver letto diverse storie bel po 'di bambini che avevano ottenuto bruciato e divorati dalle belve e altre cose spiacevoli tutto perché non volevano ricordare il semplice governa i loro amici li avevano insegnato come quella di una mazza rovente brucerà se lo si tiene troppo a lungo e che, se si taglia un dito molto profondamente con un coltello di solito sanguina e che non aveva mai dimenticato che se si beve molto dal una bottiglia contrassegnata veleno è quasi certo di essere in disaccordo con te, prima o poi però questa bottiglia non è stato segnato veleno così Alice si avventurò di assaggiarlo e trovandolo molto bello che aveva in realtà una sorta di sapore misto di ciliegia crostata di crema pasticcera Pine Apple tacchino arrosto caramello e caldo imburrato brindisi lei molto presto finito fuori che sensazione curiosa disse Alice devo essere chiudendo come un telescopio e così è stato in effetti ora era alto solo pollici dieci e il suo viso si illuminò fino al pensiero che era ormai la dimensione giusta per passando attraverso la porticina in quel bel giardino Prima però ha aspettato per qualche minuto per vedere se stava andando a ridursi ulteriormente si sentiva un po 'preoccupato per questo perché potrebbe finire si sa disse Alice nel mio andare fuori del tutto simile una candela mi chiedo che cosa devo essere come allora e cercò di farsi ciò che la fiamma di una candela è come dopo la candela è saltata fuori per lei non riusciva a ricordare di aver mai visto una cosa del genere dopo un po 'trovare che nulla m minerale di successo ha deciso di andare in giardino in una volta ma purtroppo per la povera Alice, quando arrivò alla porta si accorse di aver dimenticato la piccola chiave d'oro e quando lei tornò al tavolo per lo scoprì che non poteva raggiungerlo lei poteva vedere molto chiaramente attraverso il vetro e lei la migliore cercato di salire una delle gambe del tavolo, ma era troppo scivoloso e quando lei si era stancato con il tentativo la povera piccola cosa si sedette e pianse Vieni non c'è alcuna utilità nel gridare come quella disse Alice, piuttosto bruscamente vi consiglio di lasciare fuori in questo momento ha in genere si dava molto buoni consigli se lei molto raramente lo seguì e, talvolta, si rimproverò così gravemente da portare le lacrime negli occhi e una volta che si ricordò cercando di box sue stesse orecchie per aver ingannato se stessa in una partita di croquet stava giocando contro se stessa per questo bambino curioso era molto affezionato a fingere di essere due persone Ma s inutile ora pensò la povera Alice far finta di essere due pe ople Perché ci s difficilmente abbastanza di me a sinistra per fare una persona rispettabile Presto il suo sguardo cadde su una scatola di vetro poco che giaceva sotto il tavolo ha aperto e ha trovato in essa una piccola torta su cui le parole mangiarmi erano splendidamente segnato in ribes Beh, io ll mangiano disse Alice e se mi fa crescere più grande che può raggiungere la chiave e se mi fa crescere più piccola che può insinuarsi sotto la porta così in entrambi i casi otterrà in giardino e ho don cura t che avviene Lei mangiato un po 'e ha detto con ansia a se stessa quale modo che modo teneva la mano sulla parte superiore della testa per sentire da che parte stava crescendo ed era molto sorpreso di scoprire che lei è rimasta la stessa dimensione per essere sicuri che questo accade in genere quando uno mangia torta, ma Alice aveva avuto così tanto nel modo di aspettarsi nulla ma per il modo in cui le cose accadere che sembrava abbastanza noioso e stupido per la vita di andare avanti in modo comune quindi si mise al lavoro e ben presto finito la torta CAPO II Il Pool of Tears Curiouser e curiou ser gridò Alice era tanto sorpreso che per il momento si dimenticò come parlare bene l'inglese ora mi sto aprendo fuori come il più grande telescopio che mai era buono piedi bye per quando si guardò i piedi sembravano essere quasi fuori vista stavano diventando così lontano Oh miei poveri piedini mi chiedo chi metterà le scarpe e le calze per te ora cari sono sicuro che shan t essere in grado sarò molto troppo lontano per problemi me stesso su di te è necessario gestire il miglior modo è possibile, ma devo essere gentile con loro pensò Alice, o forse hanno vinto t piedi il modo in cui voglio andare Fammi vedere I ll dare loro un nuovo paio di stivali ogni Natale e andò sulla pianificazione a se stessa come lei avrebbe gestirla Essi devono andare dal vettore pensava e come divertente è ll sembra l'invio di regali a uno s propri piedi e come strano direzioni guarderanno Alice s Piede destro Esq hearthrug vicino al parafango con l'amore di Alice s Oddio che assurdità che m parlando solo allora la testa ha colpito contro il tetto del sala in realtà lei era ormai alto più di nove piedi e lei in una sola volta ha preso la piccola chiave d'oro e fuori corse alla porta del giardino Poor Alice E 'stato il più che poteva fare sdraiati su un lato per guardare attraverso il giardino con un occhio ma di ottenere attraverso era più disperata che mai si sedette e cominciò a piangere di nuovo Dovresti vergognarti di te stesso disse Alice una grande ragazza come te che potrebbe ben dire questo per andare a piangere in questo modo arresto questo momento dico si Ma lei è andato su tutte le stesse galloni spargimento di lacrime finché non ci fu una grande piscina tutto lei di quattro pollici profondo e raggiungendo la metà in fondo al corridoio Dopo un po 'sentì un po' scalpiccio in lontananza e ha fretta asciugò gli occhi per vedere che cosa sarebbe successo era il Coniglio Bianco ritornando splendidamente vestita con un paio di guanti bianchi in una mano e un grande ventilatore nell'altra è venuto trotto lungo in gran fretta mormorando tra sé e sé mentre veniva Oh la Duchessa Duchessa Oh ha vinto t si sia selvaggia se io ve la teneva in attesa Alice sentiva così disperata che era pronta a chiedere aiuto di uno qualsiasi modo che quando il coniglio è venuto vicino a lei cominciò a bassa voce timida se non le dispiace, signore Il coniglio ha iniziato violentemente cadere le guanti bianchi e la ventola e skurried via nel buio più forte che poteva andare Alice prese il ventaglio ei guanti e la sala era molto caldo continuava sventolandosi tutto il tempo che continuò a parlare Caro caro come queer tutto è al giorno e ieri le cose sono andate avanti come al solito mi chiedo se ho cambiato nella notte Fammi pensare mi è stato lo stesso quando mi sono alzato questa mattina ho quasi che mi ricordo sensazione un po 'diverso, ma se io non sono lo stesso la prossima domanda è chi nel mondo del mattino ho Ah che s il grande puzzle e ripensò a tutti i bambini che conosceva che erano della stessa età di se stessa per vedere se poteva essere stato modificato per nessuno di essi sono sicuro che io m non Ada ha detto per i capelli va in tali boccoli lunghi e mio doesn t andare in boccoli a'\n"
     ]
    }
   ],
   "source": [
    "translate_information(text=first_14999, src='en', to='it')"
   ]
  }
 ],
 "metadata": {
  "kernelspec": {
   "display_name": "Python [conda env:aidy-py] *",
   "language": "python",
   "name": "conda-env-aidy-py-py"
  },
  "language_info": {
   "codemirror_mode": {
    "name": "ipython",
    "version": 3
   },
   "file_extension": ".py",
   "mimetype": "text/x-python",
   "name": "python",
   "nbconvert_exporter": "python",
   "pygments_lexer": "ipython3",
   "version": "3.7.7"
  },
  "toc": {
   "base_numbering": 1,
   "nav_menu": {},
   "number_sections": true,
   "sideBar": true,
   "skip_h1_title": false,
   "title_cell": "Table of Contents",
   "title_sidebar": "Contents",
   "toc_cell": false,
   "toc_position": {
    "height": "calc(100% - 180px)",
    "left": "10px",
    "top": "150px",
    "width": "288px"
   },
   "toc_section_display": true,
   "toc_window_display": true
  }
 },
 "nbformat": 4,
 "nbformat_minor": 4
}
