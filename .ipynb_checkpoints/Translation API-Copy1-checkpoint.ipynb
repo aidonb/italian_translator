{
 "cells": [
  {
   "cell_type": "code",
   "execution_count": 16,
   "metadata": {
    "ExecuteTime": {
     "end_time": "2020-08-26T14:24:03.056671Z",
     "start_time": "2020-08-26T14:24:02.672389Z"
    }
   },
   "outputs": [],
   "source": [
    "from googletrans import Translator\n",
    "import pandas as pd\n",
    "\n",
    "from IPython.core.interactiveshell import InteractiveShell\n",
    "pd.set_option(\"display.max_columns\", 100)\n",
    "InteractiveShell.ast_node_interactivity = \"all\""
   ]
  },
  {
   "cell_type": "code",
   "execution_count": 20,
   "metadata": {
    "ExecuteTime": {
     "end_time": "2020-08-26T14:26:10.672750Z",
     "start_time": "2020-08-26T14:26:10.664861Z"
    }
   },
   "outputs": [],
   "source": [
    "translator = Translator()"
   ]
  },
  {
   "cell_type": "code",
   "execution_count": 34,
   "metadata": {
    "ExecuteTime": {
     "end_time": "2020-08-26T14:29:36.501019Z",
     "start_time": "2020-08-26T14:29:35.574703Z"
    }
   },
   "outputs": [
    {
     "data": {
      "text/plain": [
       "'it'"
      ]
     },
     "execution_count": 34,
     "metadata": {},
     "output_type": "execute_result"
    },
    {
     "data": {
      "text/plain": [
       "{'translation': [['Ciao, come stai?', 'Hello, how are you?', None, None, 1]],\n",
       " 'all-translations': None,\n",
       " 'original-language': 'en',\n",
       " 'possible-translations': [['Hello, how are you?',\n",
       "   None,\n",
       "   [['Ciao, come stai?', 1000, True, False]],\n",
       "   [[0, 19]],\n",
       "   'Hello, how are you?',\n",
       "   0,\n",
       "   0]],\n",
       " 'confidence': 1.0,\n",
       " 'possible-mistakes': None,\n",
       " 'language': [['en'], None, [1.0], ['en']],\n",
       " 'synonyms': None,\n",
       " 'definitions': None,\n",
       " 'examples': None,\n",
       " 'see-also': None}"
      ]
     },
     "execution_count": 34,
     "metadata": {},
     "output_type": "execute_result"
    },
    {
     "data": {
      "text/plain": [
       "'Hello, how are you?'"
      ]
     },
     "execution_count": 34,
     "metadata": {},
     "output_type": "execute_result"
    },
    {
     "data": {
      "text/plain": [
       "'Hello, how are you?'"
      ]
     },
     "execution_count": 34,
     "metadata": {},
     "output_type": "execute_result"
    },
    {
     "data": {
      "text/plain": [
       "'en'"
      ]
     },
     "execution_count": 34,
     "metadata": {},
     "output_type": "execute_result"
    },
    {
     "data": {
      "text/plain": [
       "'Ciao, come stai?'"
      ]
     },
     "execution_count": 34,
     "metadata": {},
     "output_type": "execute_result"
    }
   ],
   "source": [
    "# Assess the attributes of translation\n",
    "translator.translate('Hello, how are you?', dest='it').dest\n",
    "translator.translate('Hello, how are you?', dest='it').extra_data\n",
    "translator.translate('Hello, how are you?', dest='it').origin\n",
    "translator.translate('Hello, how are you?', dest='it').pronunciation\n",
    "translator.translate('Hello, how are you?', dest='it').src\n",
    "translator.translate('Hello, how are you?', dest='it').text"
   ]
  },
  {
   "cell_type": "code",
   "execution_count": 32,
   "metadata": {
    "ExecuteTime": {
     "end_time": "2020-08-26T14:29:18.964655Z",
     "start_time": "2020-08-26T14:29:18.961366Z"
    }
   },
   "outputs": [],
   "source": [
    "# Confidence levels in translation"
   ]
  },
  {
   "cell_type": "code",
   "execution_count": 33,
   "metadata": {
    "ExecuteTime": {
     "end_time": "2020-08-26T14:29:20.873021Z",
     "start_time": "2020-08-26T14:29:20.750462Z"
    }
   },
   "outputs": [
    {
     "data": {
      "text/plain": [
       "1.0"
      ]
     },
     "execution_count": 33,
     "metadata": {},
     "output_type": "execute_result"
    }
   ],
   "source": [
    "extra_data = translator.translate('Hello, how are you?', dest='it').extra_data\n",
    "extra_data['confidence']"
   ]
  },
  {
   "cell_type": "markdown",
   "metadata": {},
   "source": [
    "# Function to provide enough oversight from translation"
   ]
  },
  {
   "cell_type": "code",
   "execution_count": 66,
   "metadata": {
    "ExecuteTime": {
     "end_time": "2020-08-26T14:39:12.083774Z",
     "start_time": "2020-08-26T14:39:12.079090Z"
    }
   },
   "outputs": [],
   "source": [
    "def translate_information(text='', src='', to=''):\n",
    "    \n",
    "    # Define a translator\n",
    "    translator = Translator()\n",
    "    \n",
    "    translation = translator.translate(text=text,\n",
    "                          src=src,\n",
    "                          dest=to)\n",
    "    \n",
    "    return print(f\"Translated from {src} to {to} with {translation.extra_data['confidence']} confidence: \\n '{translation.text}'\")\n",
    "    "
   ]
  },
  {
   "cell_type": "code",
   "execution_count": 67,
   "metadata": {
    "ExecuteTime": {
     "end_time": "2020-08-26T14:39:13.713428Z",
     "start_time": "2020-08-26T14:39:13.355552Z"
    }
   },
   "outputs": [
    {
     "name": "stdout",
     "output_type": "stream",
     "text": [
      "Translated from en to it with 0.98556936 confidence: \n",
      " 'Ciao, per favore tradurre'\n"
     ]
    }
   ],
   "source": [
    "translate_information(text='Hello, please translate', src='en', to='it')"
   ]
  },
  {
   "cell_type": "code",
   "execution_count": null,
   "metadata": {},
   "outputs": [],
   "source": [
    "translate_information(text='')"
   ]
  }
 ],
 "metadata": {
  "kernelspec": {
   "display_name": "Python [conda env:aidy-py] *",
   "language": "python",
   "name": "conda-env-aidy-py-py"
  },
  "language_info": {
   "codemirror_mode": {
    "name": "ipython",
    "version": 3
   },
   "file_extension": ".py",
   "mimetype": "text/x-python",
   "name": "python",
   "nbconvert_exporter": "python",
   "pygments_lexer": "ipython3",
   "version": "3.7.7"
  },
  "toc": {
   "base_numbering": 1,
   "nav_menu": {},
   "number_sections": true,
   "sideBar": true,
   "skip_h1_title": false,
   "title_cell": "Table of Contents",
   "title_sidebar": "Contents",
   "toc_cell": false,
   "toc_position": {},
   "toc_section_display": true,
   "toc_window_display": false
  }
 },
 "nbformat": 4,
 "nbformat_minor": 4
}
